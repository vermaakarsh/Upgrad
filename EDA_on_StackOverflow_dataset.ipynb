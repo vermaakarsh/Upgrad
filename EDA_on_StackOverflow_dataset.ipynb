{
  "nbformat": 4,
  "nbformat_minor": 0,
  "metadata": {
    "kernelspec": {
      "display_name": "Python 3",
      "language": "python",
      "name": "python3"
    },
    "language_info": {
      "codemirror_mode": {
        "name": "ipython",
        "version": 3
      },
      "file_extension": ".py",
      "mimetype": "text/x-python",
      "name": "python",
      "nbconvert_exporter": "python",
      "pygments_lexer": "ipython3",
      "version": "3.7.3"
    },
    "colab": {
      "name": "EDA_on_StackOverflow_dataset.ipynb",
      "provenance": [],
      "collapsed_sections": [],
      "machine_shape": "hm",
      "include_colab_link": true
    }
  },
  "cells": [
    {
      "cell_type": "markdown",
      "metadata": {
        "id": "view-in-github",
        "colab_type": "text"
      },
      "source": [
        "<a href=\"https://colab.research.google.com/github/vermaakarsh/Upgrad/blob/master/EDA_on_StackOverflow_dataset.ipynb\" target=\"_parent\"><img src=\"https://colab.research.google.com/assets/colab-badge.svg\" alt=\"Open In Colab\"/></a>"
      ]
    },
    {
      "cell_type": "markdown",
      "metadata": {
        "id": "gF_25iaz_J0r"
      },
      "source": [
        "#### Importing the libraries"
      ]
    },
    {
      "cell_type": "code",
      "metadata": {
        "id": "uxnhbUcP_J0t"
      },
      "source": [
        "import numpy as np\n",
        "import pandas as pd\n",
        "import seaborn as sns\n",
        "import matplotlib.pyplot as plt\n",
        "\n",
        "from tqdm import tqdm_notebook\n",
        "from collections import Counter\n",
        "\n",
        "import math\n",
        "import random\n",
        "\n",
        "import requests, io"
      ],
      "execution_count": 1,
      "outputs": []
    },
    {
      "cell_type": "markdown",
      "metadata": {
        "id": "iDRZuHgc_J0w"
      },
      "source": [
        "#### Importing the Data"
      ]
    },
    {
      "cell_type": "code",
      "metadata": {
        "id": "aVbyTF70_J0x"
      },
      "source": [
        "response = requests.get('https://antrikshassignment.s3.amazonaws.com/Questions.csv')\n",
        "file_object = io.StringIO(response.content.decode('latin-1'))\n",
        "dfQ = pd.read_csv(file_object)"
      ],
      "execution_count": 2,
      "outputs": []
    },
    {
      "cell_type": "code",
      "metadata": {
        "id": "1lxDm3Ex_J0z"
      },
      "source": [
        "response = requests.get('https://antrikshassignment.s3.amazonaws.com/Answers.csv')\n",
        "file_object = io.StringIO(response.content.decode('latin-1'))\n",
        "dfA = pd.read_csv(file_object)"
      ],
      "execution_count": 3,
      "outputs": []
    },
    {
      "cell_type": "code",
      "metadata": {
        "id": "W_lIoFZ8_J02"
      },
      "source": [
        "response = requests.get('https://antrikshassignment.s3.amazonaws.com/Tags.csv')\n",
        "file_object = io.StringIO(response.content.decode('latin-1'))\n",
        "dfT = pd.read_csv(file_object)"
      ],
      "execution_count": 4,
      "outputs": []
    },
    {
      "cell_type": "code",
      "metadata": {
        "id": "luY3WAWs_J05"
      },
      "source": [
        "response = requests.get('https://antrikshassignment.s3.amazonaws.com/Users.csv')\n",
        "file_object = io.StringIO(response.content.decode('latin-1'))\n",
        "dfU = pd.read_csv(file_object)"
      ],
      "execution_count": 5,
      "outputs": []
    },
    {
      "cell_type": "markdown",
      "metadata": {
        "id": "iK_5ymNO_J07"
      },
      "source": [
        "#### Data Cleaning for Questions file"
      ]
    },
    {
      "cell_type": "code",
      "metadata": {
        "id": "spCsCZu-_J08",
        "colab": {
          "base_uri": "https://localhost:8080/",
          "height": 197
        },
        "outputId": "1c26d626-3803-4833-94de-ed00992a57b7"
      },
      "source": [
        "dfQ.head()"
      ],
      "execution_count": 6,
      "outputs": [
        {
          "output_type": "execute_result",
          "data": {
            "text/html": [
              "<div>\n",
              "<style scoped>\n",
              "    .dataframe tbody tr th:only-of-type {\n",
              "        vertical-align: middle;\n",
              "    }\n",
              "\n",
              "    .dataframe tbody tr th {\n",
              "        vertical-align: top;\n",
              "    }\n",
              "\n",
              "    .dataframe thead th {\n",
              "        text-align: right;\n",
              "    }\n",
              "</style>\n",
              "<table border=\"1\" class=\"dataframe\">\n",
              "  <thead>\n",
              "    <tr style=\"text-align: right;\">\n",
              "      <th></th>\n",
              "      <th>Id</th>\n",
              "      <th>OwnerUserId</th>\n",
              "      <th>CreationDate</th>\n",
              "      <th>ClosedDate</th>\n",
              "      <th>Score</th>\n",
              "      <th>Title</th>\n",
              "      <th>Body</th>\n",
              "    </tr>\n",
              "  </thead>\n",
              "  <tbody>\n",
              "    <tr>\n",
              "      <th>0</th>\n",
              "      <td>80</td>\n",
              "      <td>26.0</td>\n",
              "      <td>2008-08-01T13:57:07Z</td>\n",
              "      <td>NaN</td>\n",
              "      <td>26</td>\n",
              "      <td>SQLStatement.execute() - multiple queries in o...</td>\n",
              "      <td>&lt;p&gt;I've written a database generation script i...</td>\n",
              "    </tr>\n",
              "    <tr>\n",
              "      <th>1</th>\n",
              "      <td>90</td>\n",
              "      <td>58.0</td>\n",
              "      <td>2008-08-01T14:41:24Z</td>\n",
              "      <td>2012-12-26T03:45:49Z</td>\n",
              "      <td>144</td>\n",
              "      <td>Good branching and merging tutorials for Torto...</td>\n",
              "      <td>&lt;p&gt;Are there any really good tutorials explain...</td>\n",
              "    </tr>\n",
              "    <tr>\n",
              "      <th>2</th>\n",
              "      <td>120</td>\n",
              "      <td>83.0</td>\n",
              "      <td>2008-08-01T15:50:08Z</td>\n",
              "      <td>NaN</td>\n",
              "      <td>21</td>\n",
              "      <td>ASP.NET Site Maps</td>\n",
              "      <td>&lt;p&gt;Has anyone got experience creating &lt;strong&gt;...</td>\n",
              "    </tr>\n",
              "    <tr>\n",
              "      <th>3</th>\n",
              "      <td>180</td>\n",
              "      <td>2089740.0</td>\n",
              "      <td>2008-08-01T18:42:19Z</td>\n",
              "      <td>NaN</td>\n",
              "      <td>53</td>\n",
              "      <td>Function for creating color wheels</td>\n",
              "      <td>&lt;p&gt;This is something I've pseudo-solved many t...</td>\n",
              "    </tr>\n",
              "    <tr>\n",
              "      <th>4</th>\n",
              "      <td>260</td>\n",
              "      <td>91.0</td>\n",
              "      <td>2008-08-01T23:22:08Z</td>\n",
              "      <td>NaN</td>\n",
              "      <td>49</td>\n",
              "      <td>Adding scripting functionality to .NET applica...</td>\n",
              "      <td>&lt;p&gt;I have a little game written in C#. It uses...</td>\n",
              "    </tr>\n",
              "  </tbody>\n",
              "</table>\n",
              "</div>"
            ],
            "text/plain": [
              "    Id  ...                                               Body\n",
              "0   80  ...  <p>I've written a database generation script i...\n",
              "1   90  ...  <p>Are there any really good tutorials explain...\n",
              "2  120  ...  <p>Has anyone got experience creating <strong>...\n",
              "3  180  ...  <p>This is something I've pseudo-solved many t...\n",
              "4  260  ...  <p>I have a little game written in C#. It uses...\n",
              "\n",
              "[5 rows x 7 columns]"
            ]
          },
          "metadata": {
            "tags": []
          },
          "execution_count": 6
        }
      ]
    },
    {
      "cell_type": "code",
      "metadata": {
        "id": "tGG0NbuY_J0_",
        "colab": {
          "base_uri": "https://localhost:8080/",
          "height": 197
        },
        "outputId": "ffe1f7d3-1439-4919-c8df-ce74334ec4c3"
      },
      "source": [
        "# Delete irrelevent columns from Question file\n",
        "dfQ.drop([\"Body\"] , axis= 1, inplace= True)\n",
        "dfQ.head()"
      ],
      "execution_count": 7,
      "outputs": [
        {
          "output_type": "execute_result",
          "data": {
            "text/html": [
              "<div>\n",
              "<style scoped>\n",
              "    .dataframe tbody tr th:only-of-type {\n",
              "        vertical-align: middle;\n",
              "    }\n",
              "\n",
              "    .dataframe tbody tr th {\n",
              "        vertical-align: top;\n",
              "    }\n",
              "\n",
              "    .dataframe thead th {\n",
              "        text-align: right;\n",
              "    }\n",
              "</style>\n",
              "<table border=\"1\" class=\"dataframe\">\n",
              "  <thead>\n",
              "    <tr style=\"text-align: right;\">\n",
              "      <th></th>\n",
              "      <th>Id</th>\n",
              "      <th>OwnerUserId</th>\n",
              "      <th>CreationDate</th>\n",
              "      <th>ClosedDate</th>\n",
              "      <th>Score</th>\n",
              "      <th>Title</th>\n",
              "    </tr>\n",
              "  </thead>\n",
              "  <tbody>\n",
              "    <tr>\n",
              "      <th>0</th>\n",
              "      <td>80</td>\n",
              "      <td>26.0</td>\n",
              "      <td>2008-08-01T13:57:07Z</td>\n",
              "      <td>NaN</td>\n",
              "      <td>26</td>\n",
              "      <td>SQLStatement.execute() - multiple queries in o...</td>\n",
              "    </tr>\n",
              "    <tr>\n",
              "      <th>1</th>\n",
              "      <td>90</td>\n",
              "      <td>58.0</td>\n",
              "      <td>2008-08-01T14:41:24Z</td>\n",
              "      <td>2012-12-26T03:45:49Z</td>\n",
              "      <td>144</td>\n",
              "      <td>Good branching and merging tutorials for Torto...</td>\n",
              "    </tr>\n",
              "    <tr>\n",
              "      <th>2</th>\n",
              "      <td>120</td>\n",
              "      <td>83.0</td>\n",
              "      <td>2008-08-01T15:50:08Z</td>\n",
              "      <td>NaN</td>\n",
              "      <td>21</td>\n",
              "      <td>ASP.NET Site Maps</td>\n",
              "    </tr>\n",
              "    <tr>\n",
              "      <th>3</th>\n",
              "      <td>180</td>\n",
              "      <td>2089740.0</td>\n",
              "      <td>2008-08-01T18:42:19Z</td>\n",
              "      <td>NaN</td>\n",
              "      <td>53</td>\n",
              "      <td>Function for creating color wheels</td>\n",
              "    </tr>\n",
              "    <tr>\n",
              "      <th>4</th>\n",
              "      <td>260</td>\n",
              "      <td>91.0</td>\n",
              "      <td>2008-08-01T23:22:08Z</td>\n",
              "      <td>NaN</td>\n",
              "      <td>49</td>\n",
              "      <td>Adding scripting functionality to .NET applica...</td>\n",
              "    </tr>\n",
              "  </tbody>\n",
              "</table>\n",
              "</div>"
            ],
            "text/plain": [
              "    Id  OwnerUserId  ... Score                                              Title\n",
              "0   80         26.0  ...    26  SQLStatement.execute() - multiple queries in o...\n",
              "1   90         58.0  ...   144  Good branching and merging tutorials for Torto...\n",
              "2  120         83.0  ...    21                                  ASP.NET Site Maps\n",
              "3  180    2089740.0  ...    53                 Function for creating color wheels\n",
              "4  260         91.0  ...    49  Adding scripting functionality to .NET applica...\n",
              "\n",
              "[5 rows x 6 columns]"
            ]
          },
          "metadata": {
            "tags": []
          },
          "execution_count": 7
        }
      ]
    },
    {
      "cell_type": "markdown",
      "metadata": {
        "id": "aYz8f3mr_J1B"
      },
      "source": [
        "#### Data Cleaning for Answers file"
      ]
    },
    {
      "cell_type": "code",
      "metadata": {
        "id": "gP7bqGIE_J1C",
        "colab": {
          "base_uri": "https://localhost:8080/",
          "height": 197
        },
        "outputId": "7c2a1b73-a51a-488c-ea90-42bedb02105c"
      },
      "source": [
        "dfA.head()"
      ],
      "execution_count": 8,
      "outputs": [
        {
          "output_type": "execute_result",
          "data": {
            "text/html": [
              "<div>\n",
              "<style scoped>\n",
              "    .dataframe tbody tr th:only-of-type {\n",
              "        vertical-align: middle;\n",
              "    }\n",
              "\n",
              "    .dataframe tbody tr th {\n",
              "        vertical-align: top;\n",
              "    }\n",
              "\n",
              "    .dataframe thead th {\n",
              "        text-align: right;\n",
              "    }\n",
              "</style>\n",
              "<table border=\"1\" class=\"dataframe\">\n",
              "  <thead>\n",
              "    <tr style=\"text-align: right;\">\n",
              "      <th></th>\n",
              "      <th>Id</th>\n",
              "      <th>OwnerUserId</th>\n",
              "      <th>CreationDate</th>\n",
              "      <th>ParentId</th>\n",
              "      <th>Score</th>\n",
              "      <th>Body</th>\n",
              "    </tr>\n",
              "  </thead>\n",
              "  <tbody>\n",
              "    <tr>\n",
              "      <th>0</th>\n",
              "      <td>92</td>\n",
              "      <td>61.0</td>\n",
              "      <td>2008-08-01T14:45:37Z</td>\n",
              "      <td>90</td>\n",
              "      <td>13</td>\n",
              "      <td>&lt;p&gt;&lt;a href=\"http://svnbook.red-bean.com/\"&gt;Vers...</td>\n",
              "    </tr>\n",
              "    <tr>\n",
              "      <th>1</th>\n",
              "      <td>124</td>\n",
              "      <td>26.0</td>\n",
              "      <td>2008-08-01T16:09:47Z</td>\n",
              "      <td>80</td>\n",
              "      <td>12</td>\n",
              "      <td>&lt;p&gt;I wound up using this. It is a kind of a ha...</td>\n",
              "    </tr>\n",
              "    <tr>\n",
              "      <th>2</th>\n",
              "      <td>199</td>\n",
              "      <td>50.0</td>\n",
              "      <td>2008-08-01T19:36:46Z</td>\n",
              "      <td>180</td>\n",
              "      <td>1</td>\n",
              "      <td>&lt;p&gt;I've read somewhere the human eye can't dis...</td>\n",
              "    </tr>\n",
              "    <tr>\n",
              "      <th>3</th>\n",
              "      <td>269</td>\n",
              "      <td>91.0</td>\n",
              "      <td>2008-08-01T23:49:57Z</td>\n",
              "      <td>260</td>\n",
              "      <td>4</td>\n",
              "      <td>&lt;p&gt;Yes, I thought about that, but I soon figur...</td>\n",
              "    </tr>\n",
              "    <tr>\n",
              "      <th>4</th>\n",
              "      <td>307</td>\n",
              "      <td>49.0</td>\n",
              "      <td>2008-08-02T01:49:46Z</td>\n",
              "      <td>260</td>\n",
              "      <td>28</td>\n",
              "      <td>&lt;p&gt;&lt;a href=\"http://www.codeproject.com/Article...</td>\n",
              "    </tr>\n",
              "  </tbody>\n",
              "</table>\n",
              "</div>"
            ],
            "text/plain": [
              "    Id  OwnerUserId  ... Score                                               Body\n",
              "0   92         61.0  ...    13  <p><a href=\"http://svnbook.red-bean.com/\">Vers...\n",
              "1  124         26.0  ...    12  <p>I wound up using this. It is a kind of a ha...\n",
              "2  199         50.0  ...     1  <p>I've read somewhere the human eye can't dis...\n",
              "3  269         91.0  ...     4  <p>Yes, I thought about that, but I soon figur...\n",
              "4  307         49.0  ...    28  <p><a href=\"http://www.codeproject.com/Article...\n",
              "\n",
              "[5 rows x 6 columns]"
            ]
          },
          "metadata": {
            "tags": []
          },
          "execution_count": 8
        }
      ]
    },
    {
      "cell_type": "code",
      "metadata": {
        "id": "kRcw4t8K_J1E",
        "colab": {
          "base_uri": "https://localhost:8080/",
          "height": 197
        },
        "outputId": "d464b1e8-1192-4b34-a040-083900b62b28"
      },
      "source": [
        "# Delete irrelevent columns from Answer file.\n",
        "dfA.drop([\"Body\"] , axis= 1, inplace= True)\n",
        "dfA.head()"
      ],
      "execution_count": 9,
      "outputs": [
        {
          "output_type": "execute_result",
          "data": {
            "text/html": [
              "<div>\n",
              "<style scoped>\n",
              "    .dataframe tbody tr th:only-of-type {\n",
              "        vertical-align: middle;\n",
              "    }\n",
              "\n",
              "    .dataframe tbody tr th {\n",
              "        vertical-align: top;\n",
              "    }\n",
              "\n",
              "    .dataframe thead th {\n",
              "        text-align: right;\n",
              "    }\n",
              "</style>\n",
              "<table border=\"1\" class=\"dataframe\">\n",
              "  <thead>\n",
              "    <tr style=\"text-align: right;\">\n",
              "      <th></th>\n",
              "      <th>Id</th>\n",
              "      <th>OwnerUserId</th>\n",
              "      <th>CreationDate</th>\n",
              "      <th>ParentId</th>\n",
              "      <th>Score</th>\n",
              "    </tr>\n",
              "  </thead>\n",
              "  <tbody>\n",
              "    <tr>\n",
              "      <th>0</th>\n",
              "      <td>92</td>\n",
              "      <td>61.0</td>\n",
              "      <td>2008-08-01T14:45:37Z</td>\n",
              "      <td>90</td>\n",
              "      <td>13</td>\n",
              "    </tr>\n",
              "    <tr>\n",
              "      <th>1</th>\n",
              "      <td>124</td>\n",
              "      <td>26.0</td>\n",
              "      <td>2008-08-01T16:09:47Z</td>\n",
              "      <td>80</td>\n",
              "      <td>12</td>\n",
              "    </tr>\n",
              "    <tr>\n",
              "      <th>2</th>\n",
              "      <td>199</td>\n",
              "      <td>50.0</td>\n",
              "      <td>2008-08-01T19:36:46Z</td>\n",
              "      <td>180</td>\n",
              "      <td>1</td>\n",
              "    </tr>\n",
              "    <tr>\n",
              "      <th>3</th>\n",
              "      <td>269</td>\n",
              "      <td>91.0</td>\n",
              "      <td>2008-08-01T23:49:57Z</td>\n",
              "      <td>260</td>\n",
              "      <td>4</td>\n",
              "    </tr>\n",
              "    <tr>\n",
              "      <th>4</th>\n",
              "      <td>307</td>\n",
              "      <td>49.0</td>\n",
              "      <td>2008-08-02T01:49:46Z</td>\n",
              "      <td>260</td>\n",
              "      <td>28</td>\n",
              "    </tr>\n",
              "  </tbody>\n",
              "</table>\n",
              "</div>"
            ],
            "text/plain": [
              "    Id  OwnerUserId          CreationDate  ParentId  Score\n",
              "0   92         61.0  2008-08-01T14:45:37Z        90     13\n",
              "1  124         26.0  2008-08-01T16:09:47Z        80     12\n",
              "2  199         50.0  2008-08-01T19:36:46Z       180      1\n",
              "3  269         91.0  2008-08-01T23:49:57Z       260      4\n",
              "4  307         49.0  2008-08-02T01:49:46Z       260     28"
            ]
          },
          "metadata": {
            "tags": []
          },
          "execution_count": 9
        }
      ]
    },
    {
      "cell_type": "markdown",
      "metadata": {
        "id": "NQ5vwfiL_J1G"
      },
      "source": [
        "#### Merging ParentId in dfA to Id in dfQ"
      ]
    },
    {
      "cell_type": "code",
      "metadata": {
        "id": "ayteyfKy_J1H",
        "colab": {
          "base_uri": "https://localhost:8080/",
          "height": 197
        },
        "outputId": "394b563b-7d28-4f5c-96bc-bcbebdc7d2de"
      },
      "source": [
        "dfQA = pd.merge(dfQ, dfA, how='right', left_on='Id', right_on= 'ParentId')\n",
        "dfQA.head()"
      ],
      "execution_count": 10,
      "outputs": [
        {
          "output_type": "execute_result",
          "data": {
            "text/html": [
              "<div>\n",
              "<style scoped>\n",
              "    .dataframe tbody tr th:only-of-type {\n",
              "        vertical-align: middle;\n",
              "    }\n",
              "\n",
              "    .dataframe tbody tr th {\n",
              "        vertical-align: top;\n",
              "    }\n",
              "\n",
              "    .dataframe thead th {\n",
              "        text-align: right;\n",
              "    }\n",
              "</style>\n",
              "<table border=\"1\" class=\"dataframe\">\n",
              "  <thead>\n",
              "    <tr style=\"text-align: right;\">\n",
              "      <th></th>\n",
              "      <th>Id_x</th>\n",
              "      <th>OwnerUserId_x</th>\n",
              "      <th>CreationDate_x</th>\n",
              "      <th>ClosedDate</th>\n",
              "      <th>Score_x</th>\n",
              "      <th>Title</th>\n",
              "      <th>Id_y</th>\n",
              "      <th>OwnerUserId_y</th>\n",
              "      <th>CreationDate_y</th>\n",
              "      <th>ParentId</th>\n",
              "      <th>Score_y</th>\n",
              "    </tr>\n",
              "  </thead>\n",
              "  <tbody>\n",
              "    <tr>\n",
              "      <th>0</th>\n",
              "      <td>90</td>\n",
              "      <td>58.0</td>\n",
              "      <td>2008-08-01T14:41:24Z</td>\n",
              "      <td>2012-12-26T03:45:49Z</td>\n",
              "      <td>144</td>\n",
              "      <td>Good branching and merging tutorials for Torto...</td>\n",
              "      <td>92</td>\n",
              "      <td>61.0</td>\n",
              "      <td>2008-08-01T14:45:37Z</td>\n",
              "      <td>90</td>\n",
              "      <td>13</td>\n",
              "    </tr>\n",
              "    <tr>\n",
              "      <th>1</th>\n",
              "      <td>90</td>\n",
              "      <td>58.0</td>\n",
              "      <td>2008-08-01T14:41:24Z</td>\n",
              "      <td>2012-12-26T03:45:49Z</td>\n",
              "      <td>144</td>\n",
              "      <td>Good branching and merging tutorials for Torto...</td>\n",
              "      <td>202317</td>\n",
              "      <td>20709.0</td>\n",
              "      <td>2008-10-14T18:41:45Z</td>\n",
              "      <td>90</td>\n",
              "      <td>2</td>\n",
              "    </tr>\n",
              "    <tr>\n",
              "      <th>2</th>\n",
              "      <td>90</td>\n",
              "      <td>58.0</td>\n",
              "      <td>2008-08-01T14:41:24Z</td>\n",
              "      <td>2012-12-26T03:45:49Z</td>\n",
              "      <td>144</td>\n",
              "      <td>Good branching and merging tutorials for Torto...</td>\n",
              "      <td>1466832</td>\n",
              "      <td>16012.0</td>\n",
              "      <td>2009-09-23T15:40:46Z</td>\n",
              "      <td>90</td>\n",
              "      <td>19</td>\n",
              "    </tr>\n",
              "    <tr>\n",
              "      <th>3</th>\n",
              "      <td>80</td>\n",
              "      <td>26.0</td>\n",
              "      <td>2008-08-01T13:57:07Z</td>\n",
              "      <td>NaN</td>\n",
              "      <td>26</td>\n",
              "      <td>SQLStatement.execute() - multiple queries in o...</td>\n",
              "      <td>124</td>\n",
              "      <td>26.0</td>\n",
              "      <td>2008-08-01T16:09:47Z</td>\n",
              "      <td>80</td>\n",
              "      <td>12</td>\n",
              "    </tr>\n",
              "    <tr>\n",
              "      <th>4</th>\n",
              "      <td>80</td>\n",
              "      <td>26.0</td>\n",
              "      <td>2008-08-01T13:57:07Z</td>\n",
              "      <td>NaN</td>\n",
              "      <td>26</td>\n",
              "      <td>SQLStatement.execute() - multiple queries in o...</td>\n",
              "      <td>10008</td>\n",
              "      <td>1109.0</td>\n",
              "      <td>2008-08-13T16:09:09Z</td>\n",
              "      <td>80</td>\n",
              "      <td>6</td>\n",
              "    </tr>\n",
              "  </tbody>\n",
              "</table>\n",
              "</div>"
            ],
            "text/plain": [
              "   Id_x  OwnerUserId_x  ... ParentId Score_y\n",
              "0    90           58.0  ...       90      13\n",
              "1    90           58.0  ...       90       2\n",
              "2    90           58.0  ...       90      19\n",
              "3    80           26.0  ...       80      12\n",
              "4    80           26.0  ...       80       6\n",
              "\n",
              "[5 rows x 11 columns]"
            ]
          },
          "metadata": {
            "tags": []
          },
          "execution_count": 10
        }
      ]
    },
    {
      "cell_type": "code",
      "metadata": {
        "id": "3c1f5sWx_J1J",
        "colab": {
          "base_uri": "https://localhost:8080/"
        },
        "outputId": "1968e9d4-8902-418c-abe6-4139668b5aa7"
      },
      "source": [
        "# Let's see what we can make out from the datatypes\n",
        "# Printing the Data types of Question-Answers file.\n",
        "dfQA.info()"
      ],
      "execution_count": 11,
      "outputs": [
        {
          "output_type": "stream",
          "text": [
            "<class 'pandas.core.frame.DataFrame'>\n",
            "Int64Index: 2014516 entries, 0 to 2014515\n",
            "Data columns (total 11 columns):\n",
            " #   Column          Dtype  \n",
            "---  ------          -----  \n",
            " 0   Id_x            int64  \n",
            " 1   OwnerUserId_x   float64\n",
            " 2   CreationDate_x  object \n",
            " 3   ClosedDate      object \n",
            " 4   Score_x         int64  \n",
            " 5   Title           object \n",
            " 6   Id_y            int64  \n",
            " 7   OwnerUserId_y   float64\n",
            " 8   CreationDate_y  object \n",
            " 9   ParentId        int64  \n",
            " 10  Score_y         int64  \n",
            "dtypes: float64(2), int64(5), object(4)\n",
            "memory usage: 184.4+ MB\n"
          ],
          "name": "stdout"
        }
      ]
    },
    {
      "cell_type": "code",
      "metadata": {
        "id": "x1LjgG5e_J1M",
        "colab": {
          "base_uri": "https://localhost:8080/",
          "height": 197
        },
        "outputId": "41cb4a71-c78a-4311-82e5-de09adf53f3c"
      },
      "source": [
        "dfQA = dfQA.dropna(subset = ['OwnerUserId_x', 'OwnerUserId_y'])\n",
        "\n",
        "# Id_x, OwnerUserId_x, Id_y, OwnerUserId_y, ParentId need to be set to string since they are nominal categorical datatypes\n",
        "dfQA[['Id_x', 'OwnerUserId_x', 'OwnerUserId_y', 'ParentId', 'Id_y']] = dfQA[['Id_x', 'OwnerUserId_x', 'OwnerUserId_y', 'ParentId', 'Id_y']].astype('int64').astype(str)\n",
        "\n",
        "dfQA.head()"
      ],
      "execution_count": 12,
      "outputs": [
        {
          "output_type": "execute_result",
          "data": {
            "text/html": [
              "<div>\n",
              "<style scoped>\n",
              "    .dataframe tbody tr th:only-of-type {\n",
              "        vertical-align: middle;\n",
              "    }\n",
              "\n",
              "    .dataframe tbody tr th {\n",
              "        vertical-align: top;\n",
              "    }\n",
              "\n",
              "    .dataframe thead th {\n",
              "        text-align: right;\n",
              "    }\n",
              "</style>\n",
              "<table border=\"1\" class=\"dataframe\">\n",
              "  <thead>\n",
              "    <tr style=\"text-align: right;\">\n",
              "      <th></th>\n",
              "      <th>Id_x</th>\n",
              "      <th>OwnerUserId_x</th>\n",
              "      <th>CreationDate_x</th>\n",
              "      <th>ClosedDate</th>\n",
              "      <th>Score_x</th>\n",
              "      <th>Title</th>\n",
              "      <th>Id_y</th>\n",
              "      <th>OwnerUserId_y</th>\n",
              "      <th>CreationDate_y</th>\n",
              "      <th>ParentId</th>\n",
              "      <th>Score_y</th>\n",
              "    </tr>\n",
              "  </thead>\n",
              "  <tbody>\n",
              "    <tr>\n",
              "      <th>0</th>\n",
              "      <td>90</td>\n",
              "      <td>58</td>\n",
              "      <td>2008-08-01T14:41:24Z</td>\n",
              "      <td>2012-12-26T03:45:49Z</td>\n",
              "      <td>144</td>\n",
              "      <td>Good branching and merging tutorials for Torto...</td>\n",
              "      <td>92</td>\n",
              "      <td>61</td>\n",
              "      <td>2008-08-01T14:45:37Z</td>\n",
              "      <td>90</td>\n",
              "      <td>13</td>\n",
              "    </tr>\n",
              "    <tr>\n",
              "      <th>1</th>\n",
              "      <td>90</td>\n",
              "      <td>58</td>\n",
              "      <td>2008-08-01T14:41:24Z</td>\n",
              "      <td>2012-12-26T03:45:49Z</td>\n",
              "      <td>144</td>\n",
              "      <td>Good branching and merging tutorials for Torto...</td>\n",
              "      <td>202317</td>\n",
              "      <td>20709</td>\n",
              "      <td>2008-10-14T18:41:45Z</td>\n",
              "      <td>90</td>\n",
              "      <td>2</td>\n",
              "    </tr>\n",
              "    <tr>\n",
              "      <th>2</th>\n",
              "      <td>90</td>\n",
              "      <td>58</td>\n",
              "      <td>2008-08-01T14:41:24Z</td>\n",
              "      <td>2012-12-26T03:45:49Z</td>\n",
              "      <td>144</td>\n",
              "      <td>Good branching and merging tutorials for Torto...</td>\n",
              "      <td>1466832</td>\n",
              "      <td>16012</td>\n",
              "      <td>2009-09-23T15:40:46Z</td>\n",
              "      <td>90</td>\n",
              "      <td>19</td>\n",
              "    </tr>\n",
              "    <tr>\n",
              "      <th>3</th>\n",
              "      <td>80</td>\n",
              "      <td>26</td>\n",
              "      <td>2008-08-01T13:57:07Z</td>\n",
              "      <td>NaN</td>\n",
              "      <td>26</td>\n",
              "      <td>SQLStatement.execute() - multiple queries in o...</td>\n",
              "      <td>124</td>\n",
              "      <td>26</td>\n",
              "      <td>2008-08-01T16:09:47Z</td>\n",
              "      <td>80</td>\n",
              "      <td>12</td>\n",
              "    </tr>\n",
              "    <tr>\n",
              "      <th>4</th>\n",
              "      <td>80</td>\n",
              "      <td>26</td>\n",
              "      <td>2008-08-01T13:57:07Z</td>\n",
              "      <td>NaN</td>\n",
              "      <td>26</td>\n",
              "      <td>SQLStatement.execute() - multiple queries in o...</td>\n",
              "      <td>10008</td>\n",
              "      <td>1109</td>\n",
              "      <td>2008-08-13T16:09:09Z</td>\n",
              "      <td>80</td>\n",
              "      <td>6</td>\n",
              "    </tr>\n",
              "  </tbody>\n",
              "</table>\n",
              "</div>"
            ],
            "text/plain": [
              "  Id_x OwnerUserId_x  ... ParentId Score_y\n",
              "0   90            58  ...       90      13\n",
              "1   90            58  ...       90       2\n",
              "2   90            58  ...       90      19\n",
              "3   80            26  ...       80      12\n",
              "4   80            26  ...       80       6\n",
              "\n",
              "[5 rows x 11 columns]"
            ]
          },
          "metadata": {
            "tags": []
          },
          "execution_count": 12
        }
      ]
    },
    {
      "cell_type": "markdown",
      "metadata": {
        "id": "vSDwqCEw_J1O"
      },
      "source": [
        "#### Data Cleaning for Tags file"
      ]
    },
    {
      "cell_type": "code",
      "metadata": {
        "id": "zUokvSVorepd",
        "colab": {
          "base_uri": "https://localhost:8080/",
          "height": 197
        },
        "outputId": "9b2773c9-3fce-4fb1-8d78-04d8255a3d3a"
      },
      "source": [
        "dfT.head()"
      ],
      "execution_count": 13,
      "outputs": [
        {
          "output_type": "execute_result",
          "data": {
            "text/html": [
              "<div>\n",
              "<style scoped>\n",
              "    .dataframe tbody tr th:only-of-type {\n",
              "        vertical-align: middle;\n",
              "    }\n",
              "\n",
              "    .dataframe tbody tr th {\n",
              "        vertical-align: top;\n",
              "    }\n",
              "\n",
              "    .dataframe thead th {\n",
              "        text-align: right;\n",
              "    }\n",
              "</style>\n",
              "<table border=\"1\" class=\"dataframe\">\n",
              "  <thead>\n",
              "    <tr style=\"text-align: right;\">\n",
              "      <th></th>\n",
              "      <th>Id</th>\n",
              "      <th>Tag</th>\n",
              "    </tr>\n",
              "  </thead>\n",
              "  <tbody>\n",
              "    <tr>\n",
              "      <th>0</th>\n",
              "      <td>80</td>\n",
              "      <td>flex</td>\n",
              "    </tr>\n",
              "    <tr>\n",
              "      <th>1</th>\n",
              "      <td>80</td>\n",
              "      <td>actionscript-3</td>\n",
              "    </tr>\n",
              "    <tr>\n",
              "      <th>2</th>\n",
              "      <td>80</td>\n",
              "      <td>air</td>\n",
              "    </tr>\n",
              "    <tr>\n",
              "      <th>3</th>\n",
              "      <td>90</td>\n",
              "      <td>svn</td>\n",
              "    </tr>\n",
              "    <tr>\n",
              "      <th>4</th>\n",
              "      <td>90</td>\n",
              "      <td>tortoisesvn</td>\n",
              "    </tr>\n",
              "  </tbody>\n",
              "</table>\n",
              "</div>"
            ],
            "text/plain": [
              "   Id             Tag\n",
              "0  80            flex\n",
              "1  80  actionscript-3\n",
              "2  80             air\n",
              "3  90             svn\n",
              "4  90     tortoisesvn"
            ]
          },
          "metadata": {
            "tags": []
          },
          "execution_count": 13
        }
      ]
    },
    {
      "cell_type": "code",
      "metadata": {
        "id": "NrhGM4RY_J1P",
        "colab": {
          "base_uri": "https://localhost:8080/"
        },
        "outputId": "0885b63f-1834-4898-e388-8862b377b4ea"
      },
      "source": [
        "# Print the Data types ofTag file\n",
        "dfT.info()"
      ],
      "execution_count": 14,
      "outputs": [
        {
          "output_type": "stream",
          "text": [
            "<class 'pandas.core.frame.DataFrame'>\n",
            "RangeIndex: 3750994 entries, 0 to 3750993\n",
            "Data columns (total 2 columns):\n",
            " #   Column  Dtype \n",
            "---  ------  ----- \n",
            " 0   Id      int64 \n",
            " 1   Tag     object\n",
            "dtypes: int64(1), object(1)\n",
            "memory usage: 57.2+ MB\n"
          ],
          "name": "stdout"
        }
      ]
    },
    {
      "cell_type": "code",
      "metadata": {
        "id": "nei85qEf_J1R"
      },
      "source": [
        "# Making sure all the datypes in dfT are in string format\n",
        "dfT['Id'] = dfT.round(0).astype(str)\n",
        "dfT['Tag'] = dfT['Tag'].astype(str)\n",
        "\n",
        "dfT_tags_grouped = dfT.groupby(['Id'])['Tag'].apply(','.join).reset_index() # Grouping all the tags together"
      ],
      "execution_count": 15,
      "outputs": []
    },
    {
      "cell_type": "markdown",
      "metadata": {
        "id": "5s4NR4ah_J1T"
      },
      "source": [
        "#### Merging the dfQA (Questions and Answers file) into dfT (tag file)"
      ]
    },
    {
      "cell_type": "code",
      "metadata": {
        "id": "ip7BGSU8_J1U"
      },
      "source": [
        "dfQAT = pd.merge(dfQA, dfT_tags_grouped, how='inner', left_on='Id_x', right_on= 'Id')"
      ],
      "execution_count": 16,
      "outputs": []
    },
    {
      "cell_type": "markdown",
      "metadata": {
        "id": "vRLB3kHr_J1W"
      },
      "source": [
        "#### Data Cleaning for Users file"
      ]
    },
    {
      "cell_type": "code",
      "metadata": {
        "id": "auUdp_6V_J1W",
        "colab": {
          "base_uri": "https://localhost:8080/",
          "height": 197
        },
        "outputId": "bef36b41-775c-45ea-acc2-ca99558767a0"
      },
      "source": [
        "dfU.head()"
      ],
      "execution_count": 17,
      "outputs": [
        {
          "output_type": "execute_result",
          "data": {
            "text/html": [
              "<div>\n",
              "<style scoped>\n",
              "    .dataframe tbody tr th:only-of-type {\n",
              "        vertical-align: middle;\n",
              "    }\n",
              "\n",
              "    .dataframe tbody tr th {\n",
              "        vertical-align: top;\n",
              "    }\n",
              "\n",
              "    .dataframe thead th {\n",
              "        text-align: right;\n",
              "    }\n",
              "</style>\n",
              "<table border=\"1\" class=\"dataframe\">\n",
              "  <thead>\n",
              "    <tr style=\"text-align: right;\">\n",
              "      <th></th>\n",
              "      <th>Unnamed: 0</th>\n",
              "      <th>id</th>\n",
              "      <th>display_name</th>\n",
              "      <th>creation_date</th>\n",
              "      <th>last_access_date</th>\n",
              "      <th>reputation</th>\n",
              "      <th>up_votes</th>\n",
              "      <th>down_votes</th>\n",
              "      <th>views</th>\n",
              "    </tr>\n",
              "  </thead>\n",
              "  <tbody>\n",
              "    <tr>\n",
              "      <th>0</th>\n",
              "      <td>0</td>\n",
              "      <td>26</td>\n",
              "      <td>Shawn</td>\n",
              "      <td>2008-08-01 12:18:14.52 UTC</td>\n",
              "      <td>2018-04-11 04:40:35.66 UTC</td>\n",
              "      <td>11820</td>\n",
              "      <td>565</td>\n",
              "      <td>67</td>\n",
              "      <td>3547</td>\n",
              "    </tr>\n",
              "    <tr>\n",
              "      <th>1</th>\n",
              "      <td>1</td>\n",
              "      <td>26</td>\n",
              "      <td>Shawn</td>\n",
              "      <td>2008-08-01 12:18:14.52 UTC</td>\n",
              "      <td>2018-04-11 04:40:35.66 UTC</td>\n",
              "      <td>11820</td>\n",
              "      <td>565</td>\n",
              "      <td>67</td>\n",
              "      <td>3547</td>\n",
              "    </tr>\n",
              "    <tr>\n",
              "      <th>2</th>\n",
              "      <td>2</td>\n",
              "      <td>26</td>\n",
              "      <td>Shawn</td>\n",
              "      <td>2008-08-01 12:18:14.52 UTC</td>\n",
              "      <td>2018-04-11 04:40:35.66 UTC</td>\n",
              "      <td>11820</td>\n",
              "      <td>565</td>\n",
              "      <td>67</td>\n",
              "      <td>3547</td>\n",
              "    </tr>\n",
              "    <tr>\n",
              "      <th>3</th>\n",
              "      <td>3</td>\n",
              "      <td>26</td>\n",
              "      <td>Shawn</td>\n",
              "      <td>2008-08-01 12:18:14.52 UTC</td>\n",
              "      <td>2018-04-11 04:40:35.66 UTC</td>\n",
              "      <td>11820</td>\n",
              "      <td>565</td>\n",
              "      <td>67</td>\n",
              "      <td>3547</td>\n",
              "    </tr>\n",
              "    <tr>\n",
              "      <th>4</th>\n",
              "      <td>4</td>\n",
              "      <td>26</td>\n",
              "      <td>Shawn</td>\n",
              "      <td>2008-08-01 12:18:14.52 UTC</td>\n",
              "      <td>2018-04-11 04:40:35.66 UTC</td>\n",
              "      <td>11820</td>\n",
              "      <td>565</td>\n",
              "      <td>67</td>\n",
              "      <td>3547</td>\n",
              "    </tr>\n",
              "  </tbody>\n",
              "</table>\n",
              "</div>"
            ],
            "text/plain": [
              "   Unnamed: 0  id display_name  ... up_votes down_votes  views\n",
              "0           0  26        Shawn  ...      565         67   3547\n",
              "1           1  26        Shawn  ...      565         67   3547\n",
              "2           2  26        Shawn  ...      565         67   3547\n",
              "3           3  26        Shawn  ...      565         67   3547\n",
              "4           4  26        Shawn  ...      565         67   3547\n",
              "\n",
              "[5 rows x 9 columns]"
            ]
          },
          "metadata": {
            "tags": []
          },
          "execution_count": 17
        }
      ]
    },
    {
      "cell_type": "code",
      "metadata": {
        "id": "tEsC30H8_J1b",
        "colab": {
          "base_uri": "https://localhost:8080/"
        },
        "outputId": "1b20fc98-fb34-483b-f0d6-9532e24c28e8"
      },
      "source": [
        "# Converting required datatypes into proper format\n",
        "dfU.info()"
      ],
      "execution_count": 18,
      "outputs": [
        {
          "output_type": "stream",
          "text": [
            "<class 'pandas.core.frame.DataFrame'>\n",
            "RangeIndex: 1990480 entries, 0 to 1990479\n",
            "Data columns (total 9 columns):\n",
            " #   Column            Dtype \n",
            "---  ------            ----- \n",
            " 0   Unnamed: 0        int64 \n",
            " 1   id                int64 \n",
            " 2   display_name      object\n",
            " 3   creation_date     object\n",
            " 4   last_access_date  object\n",
            " 5   reputation        int64 \n",
            " 6   up_votes          int64 \n",
            " 7   down_votes        int64 \n",
            " 8   views             int64 \n",
            "dtypes: int64(6), object(3)\n",
            "memory usage: 136.7+ MB\n"
          ],
          "name": "stdout"
        }
      ]
    },
    {
      "cell_type": "code",
      "metadata": {
        "id": "E9NuuFdK_J1d",
        "colab": {
          "base_uri": "https://localhost:8080/",
          "height": 197
        },
        "outputId": "42586e5f-899c-45f8-8853-5e364acc9373"
      },
      "source": [
        "dfU = dfU.drop(columns = ['Unnamed: 0', 'display_name', 'creation_date','last_access_date'])\n",
        "dfU['id'] = dfU['id'].astype(str)\n",
        "dfU = dfU.drop_duplicates()\n",
        "dfU.head()"
      ],
      "execution_count": 19,
      "outputs": [
        {
          "output_type": "execute_result",
          "data": {
            "text/html": [
              "<div>\n",
              "<style scoped>\n",
              "    .dataframe tbody tr th:only-of-type {\n",
              "        vertical-align: middle;\n",
              "    }\n",
              "\n",
              "    .dataframe tbody tr th {\n",
              "        vertical-align: top;\n",
              "    }\n",
              "\n",
              "    .dataframe thead th {\n",
              "        text-align: right;\n",
              "    }\n",
              "</style>\n",
              "<table border=\"1\" class=\"dataframe\">\n",
              "  <thead>\n",
              "    <tr style=\"text-align: right;\">\n",
              "      <th></th>\n",
              "      <th>id</th>\n",
              "      <th>reputation</th>\n",
              "      <th>up_votes</th>\n",
              "      <th>down_votes</th>\n",
              "      <th>views</th>\n",
              "    </tr>\n",
              "  </thead>\n",
              "  <tbody>\n",
              "    <tr>\n",
              "      <th>0</th>\n",
              "      <td>26</td>\n",
              "      <td>11820</td>\n",
              "      <td>565</td>\n",
              "      <td>67</td>\n",
              "      <td>3547</td>\n",
              "    </tr>\n",
              "    <tr>\n",
              "      <th>27</th>\n",
              "      <td>1109</td>\n",
              "      <td>116072</td>\n",
              "      <td>457</td>\n",
              "      <td>136</td>\n",
              "      <td>6905</td>\n",
              "    </tr>\n",
              "    <tr>\n",
              "      <th>85</th>\n",
              "      <td>364174</td>\n",
              "      <td>325</td>\n",
              "      <td>25</td>\n",
              "      <td>1</td>\n",
              "      <td>60</td>\n",
              "    </tr>\n",
              "    <tr>\n",
              "      <th>87</th>\n",
              "      <td>61</td>\n",
              "      <td>22779</td>\n",
              "      <td>1321</td>\n",
              "      <td>219</td>\n",
              "      <td>1731</td>\n",
              "    </tr>\n",
              "    <tr>\n",
              "      <th>97</th>\n",
              "      <td>20709</td>\n",
              "      <td>978</td>\n",
              "      <td>73</td>\n",
              "      <td>2</td>\n",
              "      <td>96</td>\n",
              "    </tr>\n",
              "  </tbody>\n",
              "</table>\n",
              "</div>"
            ],
            "text/plain": [
              "        id  reputation  up_votes  down_votes  views\n",
              "0       26       11820       565          67   3547\n",
              "27    1109      116072       457         136   6905\n",
              "85  364174         325        25           1     60\n",
              "87      61       22779      1321         219   1731\n",
              "97   20709         978        73           2     96"
            ]
          },
          "metadata": {
            "tags": []
          },
          "execution_count": 19
        }
      ]
    },
    {
      "cell_type": "markdown",
      "metadata": {
        "id": "J9KxdE9W_J1h"
      },
      "source": [
        "#### Merging the dfQAT (Questions, Answers, Tag file) into dfU (Users file)"
      ]
    },
    {
      "cell_type": "code",
      "metadata": {
        "id": "Pi1Q6x3-_J1i"
      },
      "source": [
        "dfQATU = pd.merge(dfQAT, dfU, how='left', left_on='OwnerUserId_y', right_on= 'id')"
      ],
      "execution_count": 20,
      "outputs": []
    },
    {
      "cell_type": "markdown",
      "metadata": {
        "id": "eMKGoFVP_J1l"
      },
      "source": [
        "# Let's begin the analysis!!!"
      ]
    },
    {
      "cell_type": "markdown",
      "metadata": {
        "id": "zH0N7-yp_J1m"
      },
      "source": [
        "#### Which all Questions had the highest scores"
      ]
    },
    {
      "cell_type": "code",
      "metadata": {
        "id": "gjDP480D_J1m",
        "colab": {
          "base_uri": "https://localhost:8080/"
        },
        "outputId": "e7039591-4ead-4446-89e0-38d298d8f23c"
      },
      "source": [
        "top_Questions =list(zip(dfQ[\"Id\"], dfQ[\"Score\"], dfQ[\"Title\"]))\n",
        "top_Questions.sort(key=lambda x: x[1],reverse=True)\n",
        "for id,s,t in top_Questions[:5]:\n",
        "    print(\"Question id:\",id)\n",
        "    print(\"Score :\",s)\n",
        "    print(\"Question Title\\t:\",t,'\\n')\n",
        "\n",
        "# Since there is no need of the 'Title' column, we might as well drop it\n",
        "dfQ.drop([\"Title\"] , axis= 1, inplace= True)"
      ],
      "execution_count": 21,
      "outputs": [
        {
          "output_type": "stream",
          "text": [
            "Question id: 348170\n",
            "Score : 5190\n",
            "Question Title\t: How to undo 'git add' before commit? \n",
            "\n",
            "Question id: 40480\n",
            "Score : 3613\n",
            "Question Title\t: Is Java \"pass-by-reference\" or \"pass-by-value\"? \n",
            "\n",
            "Question id: 406230\n",
            "Score : 2537\n",
            "Question Title\t: Regular expression to match line that doesn't contain a word? \n",
            "\n",
            "Question id: 520650\n",
            "Score : 2399\n",
            "Question Title\t: Make an existing Git branch track a remote branch? \n",
            "\n",
            "Question id: 2669690\n",
            "Score : 2363\n",
            "Question Title\t: Why does Google prepend while(1); to their JSON responses? \n",
            "\n"
          ],
          "name": "stdout"
        }
      ]
    },
    {
      "cell_type": "code",
      "metadata": {
        "id": "khT7LWNd_J1o",
        "colab": {
          "base_uri": "https://localhost:8080/",
          "height": 355
        },
        "outputId": "0badffa2-475e-4055-a434-2ff6c60bc65c"
      },
      "source": [
        "inp0 = dfQATU\n",
        "inp0.head()"
      ],
      "execution_count": 22,
      "outputs": [
        {
          "output_type": "execute_result",
          "data": {
            "text/html": [
              "<div>\n",
              "<style scoped>\n",
              "    .dataframe tbody tr th:only-of-type {\n",
              "        vertical-align: middle;\n",
              "    }\n",
              "\n",
              "    .dataframe tbody tr th {\n",
              "        vertical-align: top;\n",
              "    }\n",
              "\n",
              "    .dataframe thead th {\n",
              "        text-align: right;\n",
              "    }\n",
              "</style>\n",
              "<table border=\"1\" class=\"dataframe\">\n",
              "  <thead>\n",
              "    <tr style=\"text-align: right;\">\n",
              "      <th></th>\n",
              "      <th>Id_x</th>\n",
              "      <th>OwnerUserId_x</th>\n",
              "      <th>CreationDate_x</th>\n",
              "      <th>ClosedDate</th>\n",
              "      <th>Score_x</th>\n",
              "      <th>Title</th>\n",
              "      <th>Id_y</th>\n",
              "      <th>OwnerUserId_y</th>\n",
              "      <th>CreationDate_y</th>\n",
              "      <th>ParentId</th>\n",
              "      <th>Score_y</th>\n",
              "      <th>Id</th>\n",
              "      <th>Tag</th>\n",
              "      <th>id</th>\n",
              "      <th>reputation</th>\n",
              "      <th>up_votes</th>\n",
              "      <th>down_votes</th>\n",
              "      <th>views</th>\n",
              "    </tr>\n",
              "  </thead>\n",
              "  <tbody>\n",
              "    <tr>\n",
              "      <th>0</th>\n",
              "      <td>90</td>\n",
              "      <td>58</td>\n",
              "      <td>2008-08-01T14:41:24Z</td>\n",
              "      <td>2012-12-26T03:45:49Z</td>\n",
              "      <td>144</td>\n",
              "      <td>Good branching and merging tutorials for Torto...</td>\n",
              "      <td>92</td>\n",
              "      <td>61</td>\n",
              "      <td>2008-08-01T14:45:37Z</td>\n",
              "      <td>90</td>\n",
              "      <td>13</td>\n",
              "      <td>90</td>\n",
              "      <td>svn,tortoisesvn,branch,branching-and-merging</td>\n",
              "      <td>61</td>\n",
              "      <td>22779.0</td>\n",
              "      <td>1321.0</td>\n",
              "      <td>219.0</td>\n",
              "      <td>1731.0</td>\n",
              "    </tr>\n",
              "    <tr>\n",
              "      <th>1</th>\n",
              "      <td>90</td>\n",
              "      <td>58</td>\n",
              "      <td>2008-08-01T14:41:24Z</td>\n",
              "      <td>2012-12-26T03:45:49Z</td>\n",
              "      <td>144</td>\n",
              "      <td>Good branching and merging tutorials for Torto...</td>\n",
              "      <td>202317</td>\n",
              "      <td>20709</td>\n",
              "      <td>2008-10-14T18:41:45Z</td>\n",
              "      <td>90</td>\n",
              "      <td>2</td>\n",
              "      <td>90</td>\n",
              "      <td>svn,tortoisesvn,branch,branching-and-merging</td>\n",
              "      <td>20709</td>\n",
              "      <td>978.0</td>\n",
              "      <td>73.0</td>\n",
              "      <td>2.0</td>\n",
              "      <td>96.0</td>\n",
              "    </tr>\n",
              "    <tr>\n",
              "      <th>2</th>\n",
              "      <td>90</td>\n",
              "      <td>58</td>\n",
              "      <td>2008-08-01T14:41:24Z</td>\n",
              "      <td>2012-12-26T03:45:49Z</td>\n",
              "      <td>144</td>\n",
              "      <td>Good branching and merging tutorials for Torto...</td>\n",
              "      <td>1466832</td>\n",
              "      <td>16012</td>\n",
              "      <td>2009-09-23T15:40:46Z</td>\n",
              "      <td>90</td>\n",
              "      <td>19</td>\n",
              "      <td>90</td>\n",
              "      <td>svn,tortoisesvn,branch,branching-and-merging</td>\n",
              "      <td>16012</td>\n",
              "      <td>19888.0</td>\n",
              "      <td>484.0</td>\n",
              "      <td>30.0</td>\n",
              "      <td>1823.0</td>\n",
              "    </tr>\n",
              "    <tr>\n",
              "      <th>3</th>\n",
              "      <td>80</td>\n",
              "      <td>26</td>\n",
              "      <td>2008-08-01T13:57:07Z</td>\n",
              "      <td>NaN</td>\n",
              "      <td>26</td>\n",
              "      <td>SQLStatement.execute() - multiple queries in o...</td>\n",
              "      <td>124</td>\n",
              "      <td>26</td>\n",
              "      <td>2008-08-01T16:09:47Z</td>\n",
              "      <td>80</td>\n",
              "      <td>12</td>\n",
              "      <td>80</td>\n",
              "      <td>flex,actionscript-3,air</td>\n",
              "      <td>26</td>\n",
              "      <td>11820.0</td>\n",
              "      <td>565.0</td>\n",
              "      <td>67.0</td>\n",
              "      <td>3547.0</td>\n",
              "    </tr>\n",
              "    <tr>\n",
              "      <th>4</th>\n",
              "      <td>80</td>\n",
              "      <td>26</td>\n",
              "      <td>2008-08-01T13:57:07Z</td>\n",
              "      <td>NaN</td>\n",
              "      <td>26</td>\n",
              "      <td>SQLStatement.execute() - multiple queries in o...</td>\n",
              "      <td>10008</td>\n",
              "      <td>1109</td>\n",
              "      <td>2008-08-13T16:09:09Z</td>\n",
              "      <td>80</td>\n",
              "      <td>6</td>\n",
              "      <td>80</td>\n",
              "      <td>flex,actionscript-3,air</td>\n",
              "      <td>1109</td>\n",
              "      <td>116072.0</td>\n",
              "      <td>457.0</td>\n",
              "      <td>136.0</td>\n",
              "      <td>6905.0</td>\n",
              "    </tr>\n",
              "  </tbody>\n",
              "</table>\n",
              "</div>"
            ],
            "text/plain": [
              "  Id_x OwnerUserId_x        CreationDate_x  ... up_votes  down_votes   views\n",
              "0   90            58  2008-08-01T14:41:24Z  ...   1321.0       219.0  1731.0\n",
              "1   90            58  2008-08-01T14:41:24Z  ...     73.0         2.0    96.0\n",
              "2   90            58  2008-08-01T14:41:24Z  ...    484.0        30.0  1823.0\n",
              "3   80            26  2008-08-01T13:57:07Z  ...    565.0        67.0  3547.0\n",
              "4   80            26  2008-08-01T13:57:07Z  ...    457.0       136.0  6905.0\n",
              "\n",
              "[5 rows x 18 columns]"
            ]
          },
          "metadata": {
            "tags": []
          },
          "execution_count": 22
        }
      ]
    },
    {
      "cell_type": "markdown",
      "metadata": {
        "id": "9mto-YAf_J1q"
      },
      "source": [
        "#### Which tag has the average maximum and minimum time to get the answer?"
      ]
    },
    {
      "cell_type": "code",
      "metadata": {
        "id": "k8hPokIr_J1q"
      },
      "source": [
        "# Extract the Creation date from CreationDate_x column.\n",
        "inp0['CreationDate_x']= inp0['CreationDate_x'].apply(lambda x: x.split(\"T\")[0])\n",
        "\n",
        "# Extract the Creation date from CreationDate_y column.\n",
        "inp0['CreationDate_y']= inp0['CreationDate_y'].apply(lambda x: x.split(\"T\")[0])\n",
        "\n",
        "# Convert the Creation date column into date type.\n",
        "inp0['CreationDate_x'] = pd.to_datetime(inp0['CreationDate_x'])\n",
        "inp0['CreationDate_y'] = pd.to_datetime(inp0['CreationDate_y'])"
      ],
      "execution_count": 23,
      "outputs": []
    },
    {
      "cell_type": "code",
      "metadata": {
        "id": "pcVWEkXG_J1t",
        "colab": {
          "base_uri": "https://localhost:8080/",
          "height": 355
        },
        "outputId": "faf2355f-ed7d-4590-f82e-858aa927b1fc"
      },
      "source": [
        "# Calculating the time difference between creation date of question and creation date of answer.\n",
        "# Followed by convertion into integer type\n",
        "\n",
        "inp0['time_diff_x'] = inp0['CreationDate_y'] - inp0['CreationDate_x']\n",
        "inp0[\"time_diff_x\"]= inp0[\"time_diff_x\"].astype(str) \n",
        "inp0['time_diff_x']= inp0['time_diff_x'].apply(lambda x: x.split(\" \")[0])\n",
        "inp0[\"time_diff_x\"]= inp0[\"time_diff_x\"].astype(int)\n",
        "inp0.head()"
      ],
      "execution_count": 24,
      "outputs": [
        {
          "output_type": "execute_result",
          "data": {
            "text/html": [
              "<div>\n",
              "<style scoped>\n",
              "    .dataframe tbody tr th:only-of-type {\n",
              "        vertical-align: middle;\n",
              "    }\n",
              "\n",
              "    .dataframe tbody tr th {\n",
              "        vertical-align: top;\n",
              "    }\n",
              "\n",
              "    .dataframe thead th {\n",
              "        text-align: right;\n",
              "    }\n",
              "</style>\n",
              "<table border=\"1\" class=\"dataframe\">\n",
              "  <thead>\n",
              "    <tr style=\"text-align: right;\">\n",
              "      <th></th>\n",
              "      <th>Id_x</th>\n",
              "      <th>OwnerUserId_x</th>\n",
              "      <th>CreationDate_x</th>\n",
              "      <th>ClosedDate</th>\n",
              "      <th>Score_x</th>\n",
              "      <th>Title</th>\n",
              "      <th>Id_y</th>\n",
              "      <th>OwnerUserId_y</th>\n",
              "      <th>CreationDate_y</th>\n",
              "      <th>ParentId</th>\n",
              "      <th>Score_y</th>\n",
              "      <th>Id</th>\n",
              "      <th>Tag</th>\n",
              "      <th>id</th>\n",
              "      <th>reputation</th>\n",
              "      <th>up_votes</th>\n",
              "      <th>down_votes</th>\n",
              "      <th>views</th>\n",
              "      <th>time_diff_x</th>\n",
              "    </tr>\n",
              "  </thead>\n",
              "  <tbody>\n",
              "    <tr>\n",
              "      <th>0</th>\n",
              "      <td>90</td>\n",
              "      <td>58</td>\n",
              "      <td>2008-08-01</td>\n",
              "      <td>2012-12-26T03:45:49Z</td>\n",
              "      <td>144</td>\n",
              "      <td>Good branching and merging tutorials for Torto...</td>\n",
              "      <td>92</td>\n",
              "      <td>61</td>\n",
              "      <td>2008-08-01</td>\n",
              "      <td>90</td>\n",
              "      <td>13</td>\n",
              "      <td>90</td>\n",
              "      <td>svn,tortoisesvn,branch,branching-and-merging</td>\n",
              "      <td>61</td>\n",
              "      <td>22779.0</td>\n",
              "      <td>1321.0</td>\n",
              "      <td>219.0</td>\n",
              "      <td>1731.0</td>\n",
              "      <td>0</td>\n",
              "    </tr>\n",
              "    <tr>\n",
              "      <th>1</th>\n",
              "      <td>90</td>\n",
              "      <td>58</td>\n",
              "      <td>2008-08-01</td>\n",
              "      <td>2012-12-26T03:45:49Z</td>\n",
              "      <td>144</td>\n",
              "      <td>Good branching and merging tutorials for Torto...</td>\n",
              "      <td>202317</td>\n",
              "      <td>20709</td>\n",
              "      <td>2008-10-14</td>\n",
              "      <td>90</td>\n",
              "      <td>2</td>\n",
              "      <td>90</td>\n",
              "      <td>svn,tortoisesvn,branch,branching-and-merging</td>\n",
              "      <td>20709</td>\n",
              "      <td>978.0</td>\n",
              "      <td>73.0</td>\n",
              "      <td>2.0</td>\n",
              "      <td>96.0</td>\n",
              "      <td>74</td>\n",
              "    </tr>\n",
              "    <tr>\n",
              "      <th>2</th>\n",
              "      <td>90</td>\n",
              "      <td>58</td>\n",
              "      <td>2008-08-01</td>\n",
              "      <td>2012-12-26T03:45:49Z</td>\n",
              "      <td>144</td>\n",
              "      <td>Good branching and merging tutorials for Torto...</td>\n",
              "      <td>1466832</td>\n",
              "      <td>16012</td>\n",
              "      <td>2009-09-23</td>\n",
              "      <td>90</td>\n",
              "      <td>19</td>\n",
              "      <td>90</td>\n",
              "      <td>svn,tortoisesvn,branch,branching-and-merging</td>\n",
              "      <td>16012</td>\n",
              "      <td>19888.0</td>\n",
              "      <td>484.0</td>\n",
              "      <td>30.0</td>\n",
              "      <td>1823.0</td>\n",
              "      <td>418</td>\n",
              "    </tr>\n",
              "    <tr>\n",
              "      <th>3</th>\n",
              "      <td>80</td>\n",
              "      <td>26</td>\n",
              "      <td>2008-08-01</td>\n",
              "      <td>NaN</td>\n",
              "      <td>26</td>\n",
              "      <td>SQLStatement.execute() - multiple queries in o...</td>\n",
              "      <td>124</td>\n",
              "      <td>26</td>\n",
              "      <td>2008-08-01</td>\n",
              "      <td>80</td>\n",
              "      <td>12</td>\n",
              "      <td>80</td>\n",
              "      <td>flex,actionscript-3,air</td>\n",
              "      <td>26</td>\n",
              "      <td>11820.0</td>\n",
              "      <td>565.0</td>\n",
              "      <td>67.0</td>\n",
              "      <td>3547.0</td>\n",
              "      <td>0</td>\n",
              "    </tr>\n",
              "    <tr>\n",
              "      <th>4</th>\n",
              "      <td>80</td>\n",
              "      <td>26</td>\n",
              "      <td>2008-08-01</td>\n",
              "      <td>NaN</td>\n",
              "      <td>26</td>\n",
              "      <td>SQLStatement.execute() - multiple queries in o...</td>\n",
              "      <td>10008</td>\n",
              "      <td>1109</td>\n",
              "      <td>2008-08-13</td>\n",
              "      <td>80</td>\n",
              "      <td>6</td>\n",
              "      <td>80</td>\n",
              "      <td>flex,actionscript-3,air</td>\n",
              "      <td>1109</td>\n",
              "      <td>116072.0</td>\n",
              "      <td>457.0</td>\n",
              "      <td>136.0</td>\n",
              "      <td>6905.0</td>\n",
              "      <td>12</td>\n",
              "    </tr>\n",
              "  </tbody>\n",
              "</table>\n",
              "</div>"
            ],
            "text/plain": [
              "  Id_x OwnerUserId_x CreationDate_x  ... down_votes   views time_diff_x\n",
              "0   90            58     2008-08-01  ...      219.0  1731.0           0\n",
              "1   90            58     2008-08-01  ...        2.0    96.0          74\n",
              "2   90            58     2008-08-01  ...       30.0  1823.0         418\n",
              "3   80            26     2008-08-01  ...       67.0  3547.0           0\n",
              "4   80            26     2008-08-01  ...      136.0  6905.0          12\n",
              "\n",
              "[5 rows x 19 columns]"
            ]
          },
          "metadata": {
            "tags": []
          },
          "execution_count": 24
        }
      ]
    },
    {
      "cell_type": "code",
      "metadata": {
        "id": "l232o6O6_J1v"
      },
      "source": [
        "# To avoid any repition of tags, let us consider the minimum time required to answer any particular answer\n",
        "inp1 = inp0.loc[inp0.groupby(\"Id_x\")[\"time_diff_x\"].idxmin()]"
      ],
      "execution_count": null,
      "outputs": []
    },
    {
      "cell_type": "code",
      "metadata": {
        "id": "99Bsqocf_J1w"
      },
      "source": [
        "tag_time = inp1[['Tag', 'time_diff_x']].drop_duplicates().reset_index(drop=True)\n",
        "tag_time.head()"
      ],
      "execution_count": null,
      "outputs": []
    },
    {
      "cell_type": "code",
      "metadata": {
        "id": "oCM1Au6o_J1y"
      },
      "source": [
        "tagTime = {}\n",
        "tag_time = tag_time.dropna().reset_index()\n",
        "\n",
        "for i in tqdm_notebook(range(len(tag_time['Tag']))):\n",
        "    for tag in tag_time['Tag'][i].split(','):\n",
        "        try:\n",
        "            tagTime[tag].append(tag_time['time_diff_x'][i])\n",
        "        except Exception:\n",
        "            tagTime[tag] = [tag_time['time_diff_x'][i]]"
      ],
      "execution_count": null,
      "outputs": []
    },
    {
      "cell_type": "code",
      "metadata": {
        "id": "nsG317no_J10"
      },
      "source": [
        "tagTimeAvg = {}\n",
        "for key in list(tagTime.keys()):\n",
        "    tagTimeAvg[key] = np.average(tagTime[key])"
      ],
      "execution_count": null,
      "outputs": []
    },
    {
      "cell_type": "markdown",
      "metadata": {
        "id": "RjtKEx0Y_J13"
      },
      "source": [
        "#### What would be the expected time for your question to be answered given the tag is 'excel'"
      ]
    },
    {
      "cell_type": "code",
      "metadata": {
        "id": "snZ4D9sZ_J14"
      },
      "source": [
        "print('My question is expected to be answered within ', tagTimeAvg['excel'], ' days')"
      ],
      "execution_count": null,
      "outputs": []
    },
    {
      "cell_type": "code",
      "metadata": {
        "id": "fdM7YUBH_J16"
      },
      "source": [
        "tagTimeAvg = pd.DataFrame([list(tagTimeAvg.keys()), list(tagTimeAvg.values())])\n",
        "\n",
        "tagTimeAvg = tagTimeAvg.transpose()\n",
        "tagTimeAvg.columns = ['Tag', 'time_diff_x']\n",
        "tagTimeAvg = tagTimeAvg.sort_values('time_diff_x')"
      ],
      "execution_count": null,
      "outputs": []
    },
    {
      "cell_type": "code",
      "metadata": {
        "id": "frmG8tjX_J18"
      },
      "source": [
        "# Top 20 tags with highest average time to answer\n",
        "\n",
        "highest_tag_time= tagTimeAvg.tail(20)\n",
        "highest_tag_time.plot.barh(x='Tag', y='time_diff_x', rot=0)"
      ],
      "execution_count": null,
      "outputs": []
    },
    {
      "cell_type": "markdown",
      "metadata": {
        "id": "RVzZyrut_J1-"
      },
      "source": [
        "#### Corresponding expected answer time for data science tags"
      ]
    },
    {
      "cell_type": "code",
      "metadata": {
        "id": "FG2ddVAV_J1_"
      },
      "source": [
        "data_science = ['python', 'r', 'matlab', 'sas', 'excel', 'sql']\n",
        "x = []\n",
        "y = []\n",
        "\n",
        "for tag in data_science:\n",
        "    index = list(tagTimeAvg['Tag']).index(tag)\n",
        "    x.append(tag)\n",
        "    y.append(list(tagTimeAvg['time_diff_x'])[index])\n",
        "    \n",
        "print(x)\n",
        "print(y)"
      ],
      "execution_count": null,
      "outputs": []
    },
    {
      "cell_type": "code",
      "metadata": {
        "id": "J2PD607X_J2B"
      },
      "source": [
        "DS_time_diff_df = pd.DataFrame(list(zip(x, y)), columns =['DS Tag', 'time_diff'])\n",
        "DS_time_diff_df.plot.bar(x='DS Tag', y='time_diff', rot=0)"
      ],
      "execution_count": null,
      "outputs": []
    },
    {
      "cell_type": "code",
      "metadata": {
        "id": "pds3Dcwm_J2C"
      },
      "source": [
        "DS_time_diff_df"
      ],
      "execution_count": null,
      "outputs": []
    },
    {
      "cell_type": "markdown",
      "metadata": {
        "id": "fjOX1cis_J2F"
      },
      "source": [
        "#### Should you have more tags for a question to be anwered quickly?"
      ]
    },
    {
      "cell_type": "code",
      "metadata": {
        "id": "XSmPH0RD_J2G"
      },
      "source": [
        "tag_time['tag_count'] = [len(tags.split(',')) for tags in tag_time['Tag']]\n",
        "\n",
        "tag_time_grouped = tag_time.groupby('tag_count').mean()\n",
        "tag_time_grouped.reset_index(inplace=True)\n",
        "sns.barplot(x='tag_count', y='time_diff_x', data = tag_time_grouped)"
      ],
      "execution_count": null,
      "outputs": []
    },
    {
      "cell_type": "markdown",
      "metadata": {
        "id": "Ch4GtqQ7_J2I"
      },
      "source": [
        "#### What are the most popular tags?"
      ]
    },
    {
      "cell_type": "code",
      "metadata": {
        "id": "uapbbfrP_J2I"
      },
      "source": [
        "tags = list(inp1['Tag'].unique())\n",
        "all_tags = list(dfT['Tag'].unique())\n",
        "print('Number of tags are ', len(all_tags))"
      ],
      "execution_count": null,
      "outputs": []
    },
    {
      "cell_type": "code",
      "metadata": {
        "id": "CSqAA2Mr_J2K"
      },
      "source": [
        "count_tags = Counter(list(dfT['Tag'])) # Using dfT (Tags Dataframe) to find the overall frequency of each tag\n",
        "tags = pd.DataFrame([list(count_tags.keys()), list(count_tags.values())])\n",
        "tags = tags.transpose()\n",
        "tags.columns = ['tag', 'count']\n",
        "tags = tags.sort_values(by='count', ascending=False)"
      ],
      "execution_count": null,
      "outputs": []
    },
    {
      "cell_type": "markdown",
      "metadata": {
        "id": "4OtbYOB9_J2M"
      },
      "source": [
        "#### Creating a bar chart of the top 20 most popular tags"
      ]
    },
    {
      "cell_type": "code",
      "metadata": {
        "id": "nvAxRvpc_J2M"
      },
      "source": [
        "Tags_df= tags.head(20)\n",
        "Tags_df.plot.barh(x='tag', y='count', rot=0)"
      ],
      "execution_count": null,
      "outputs": []
    },
    {
      "cell_type": "markdown",
      "metadata": {
        "id": "y81hAr2I_J2X"
      },
      "source": [
        "#### How popular are some of the data science tags?"
      ]
    },
    {
      "cell_type": "code",
      "metadata": {
        "id": "HoZWA4Wj_J2X"
      },
      "source": [
        "data_science = ['python', 'r', 'matlab', 'sas', 'excel', 'sql']\n",
        "x = []\n",
        "y = []\n",
        "\n",
        "for tag in data_science:\n",
        "    index = list(tags['tag']).index(tag)\n",
        "    x.append(tag)\n",
        "    y.append(list(tags['count'])[index])\n",
        "    \n",
        "print(x)\n",
        "print(y)"
      ],
      "execution_count": null,
      "outputs": []
    },
    {
      "cell_type": "code",
      "metadata": {
        "id": "cLs5sFlQ_J2Z"
      },
      "source": [
        "DS_Tags_df = pd.DataFrame(list(zip(x, y)), columns =['Tag', 'Values'])\n",
        "DS_Tags_df.plot.bar(x='Tag', y='Values', rot=0)"
      ],
      "execution_count": null,
      "outputs": []
    },
    {
      "cell_type": "markdown",
      "metadata": {
        "id": "0_Qj963U_J2a"
      },
      "source": [
        "#### What are the most popular tags amongst reputed users?"
      ]
    },
    {
      "cell_type": "code",
      "metadata": {
        "id": "zcKbf6FU_J2b"
      },
      "source": [
        "# First let us set a threshold to classify any user as reputed or not\n",
        "sns.boxplot(inp0['reputation']) # Creating a boxplot of the reputation of all users"
      ],
      "execution_count": null,
      "outputs": []
    },
    {
      "cell_type": "code",
      "metadata": {
        "id": "Bpda18Zm_J2c"
      },
      "source": [
        "inp0.reputation.quantile([0.01, 0.1, 0.2, 0.3, 0.5, 0.7, 0.9, 0.95, 0.99, 0.999, 1])"
      ],
      "execution_count": null,
      "outputs": []
    },
    {
      "cell_type": "code",
      "metadata": {
        "id": "ylxIVJeS_J2f"
      },
      "source": [
        "inp0[inp0['reputation'] > inp0['reputation'].quantile(0.99)].shape"
      ],
      "execution_count": null,
      "outputs": []
    },
    {
      "cell_type": "code",
      "metadata": {
        "id": "gcX_-Gav_J2i"
      },
      "source": [
        "# Hence we will be filtering out within the top 19044 users\n",
        "# So we shall consider those users whose reputation lie in the top 99 percentile\n",
        "\n",
        "inp1 = inp0[inp0['reputation'] > inp0['reputation'].quantile(0.99)]\n",
        "\n",
        "reputed_users_tags = inp1['Tag'].str.cat(sep=',')\n",
        "reputed_users_tags_dict = Counter(reputed_users_tags.split(','))\n",
        "\n",
        "reputed_users_tags_df = pd.DataFrame([list(reputed_users_tags_dict.keys()), list(reputed_users_tags_dict.values())])\n",
        "reputed_users_tags_df = reputed_users_tags_df.transpose()\n",
        "reputed_users_tags_df.columns = ['tag', 'count']\n",
        "reputed_users_tags_df = reputed_users_tags_df.sort_values(by='count', ascending=False)\n",
        "reputed_users_tags_df.head()"
      ],
      "execution_count": null,
      "outputs": []
    },
    {
      "cell_type": "markdown",
      "metadata": {
        "id": "d5gOHSHl_J2k"
      },
      "source": [
        "#### What are the most popular tags amongst the closed questions"
      ]
    },
    {
      "cell_type": "code",
      "metadata": {
        "id": "DWhMkdah_J2k"
      },
      "source": [
        "inp1 = inp0.dropna(subset = ['ClosedDate'])\n",
        "Questions_closed_date_tags = inp1['Tag'].str.cat(sep=',')\n",
        "Questions_closed_date_tags_dict = Counter(Questions_closed_date_tags.split(','))"
      ],
      "execution_count": null,
      "outputs": []
    },
    {
      "cell_type": "code",
      "metadata": {
        "id": "Ieb-5wiW_J2m"
      },
      "source": [
        "Questions_closed_date_tags_df = pd.DataFrame([list(Questions_closed_date_tags_dict.keys()), list(Questions_closed_date_tags_dict.values())])\n",
        "Questions_closed_date_tags_df = Questions_closed_date_tags_df.transpose()\n",
        "Questions_closed_date_tags_df.columns = ['tag', 'count']\n",
        "Questions_closed_date_tags_df = Questions_closed_date_tags_df.sort_values(by='count', ascending=False)\n",
        "Questions_closed_date_tags_df.head()"
      ],
      "execution_count": null,
      "outputs": []
    },
    {
      "cell_type": "markdown",
      "metadata": {
        "id": "4gnzJp85_J2o"
      },
      "source": [
        "#### Which tags have the highest scores?"
      ]
    },
    {
      "cell_type": "code",
      "metadata": {
        "id": "EkYqM-aB_J2p"
      },
      "source": [
        "tag_scores = inp0[['Id_x', 'Tag', 'Score_x']].drop_duplicates().reset_index(drop=True)\n",
        "tag_scores = tag_scores.dropna(axis = 0, how = 'any', inplace = False).reset_index(drop=True) # Removing any nan values\n",
        "tag_scores.head()"
      ],
      "execution_count": null,
      "outputs": []
    },
    {
      "cell_type": "code",
      "metadata": {
        "id": "2f1Kf4b__J2r"
      },
      "source": [
        "tagScore = {}\n",
        "for i in tqdm_notebook(range(len(tag_scores['Tag']))):\n",
        "    \n",
        "    for tag in tag_scores['Tag'][i].split(','):\n",
        "        try:\n",
        "            tagScore[tag].append(tag_scores['Score_x'][i])\n",
        "        except Exception:\n",
        "            tagScore[tag] = [tag_scores['Score_x'][i]]"
      ],
      "execution_count": null,
      "outputs": []
    },
    {
      "cell_type": "code",
      "metadata": {
        "id": "OCa8C2WJ_J2t"
      },
      "source": [
        "## Determining the average score for each tag\n",
        "\n",
        "tagScoreAvg = {}\n",
        "for key in list(tagScore.keys()):\n",
        "    tagScoreAvg[key] = np.average(tagScore[key])"
      ],
      "execution_count": null,
      "outputs": []
    },
    {
      "cell_type": "code",
      "metadata": {
        "id": "izgk6MKV_J2u"
      },
      "source": [
        "# Using pandas dataframe for sorting\n",
        "\n",
        "tagScoreAvg = pd.DataFrame([list(tagScoreAvg.keys()), list(tagScoreAvg.values())])\n",
        "tagScoreAvg = tagScoreAvg.transpose()\n",
        "tagScoreAvg.columns = ['Tag', 'Score_x']\n",
        "tagScoreAvg = tagScoreAvg.sort_values('Score_x')"
      ],
      "execution_count": null,
      "outputs": []
    },
    {
      "cell_type": "code",
      "metadata": {
        "id": "iC_CRbnC_J2w"
      },
      "source": [
        "# Top 20 tags with highest average scores\n",
        "\n",
        "high_tag= tagScoreAvg.tail(20)\n",
        "high_tag.plot.barh(x='Tag', y='Score_x', rot=0)"
      ],
      "execution_count": null,
      "outputs": []
    },
    {
      "cell_type": "code",
      "metadata": {
        "id": "sQclKC3K_J2x"
      },
      "source": [
        "# Top 20 tags with lowest average scores\n",
        "\n",
        "low_tag= tagScoreAvg.head(20)\n",
        "low_tag.plot.barh(x='Tag', y='Score_x', rot=0)"
      ],
      "execution_count": null,
      "outputs": []
    },
    {
      "cell_type": "code",
      "metadata": {
        "id": "bTIq5IoW_J2z"
      },
      "source": [
        "import random\n",
        "\n",
        "random.seed(0)\n",
        "\n",
        "# We have selected 10 random tags amongst the top 50 most popular tags and appended it with few data science tags which we can\n",
        "# use for comparison later\n",
        "\n",
        "n = 10\n",
        "random_tags = []\n",
        "\n",
        "i = 0\n",
        "while i<n:\n",
        "    random_tag = tags['tag'][random.randint(0, 50)]\n",
        "    if random_tag not in data_science:\n",
        "        random_tags.append(random_tag)\n",
        "        i = i+1\n",
        "    \n",
        "top_scoring_tags = np.append(data_science, random_tags)"
      ],
      "execution_count": null,
      "outputs": []
    },
    {
      "cell_type": "code",
      "metadata": {
        "id": "eT564cNb_J20"
      },
      "source": [
        "top_scoring_tags"
      ],
      "execution_count": null,
      "outputs": []
    },
    {
      "cell_type": "markdown",
      "metadata": {
        "id": "ezV3zjzG_J22"
      },
      "source": [
        "#### Let us try to find those users who answer questions for any particular tag most frequently"
      ]
    },
    {
      "cell_type": "code",
      "metadata": {
        "id": "5TNNX4wX_J25"
      },
      "source": [
        "dfQATU_owners_alltags = inp0.groupby(['OwnerUserId_y'])['Tag'].apply(','.join).reset_index()\n",
        "dfQATU_owners_alltags = dfQATU_owners_alltags.reset_index()\n",
        "dfQATU_owners_alltags.head()"
      ],
      "execution_count": null,
      "outputs": []
    },
    {
      "cell_type": "code",
      "metadata": {
        "id": "bSex9s0l_J27"
      },
      "source": [
        "dfQATU_owners_tagcount = {}\n",
        "dfQATU_owners_tagcount = {tag_user : Counter(dfQATU_owners_alltags['Tag'][k].split(',')) for k, tag_user in enumerate(dfQATU_owners_alltags['OwnerUserId_y'])}"
      ],
      "execution_count": null,
      "outputs": []
    },
    {
      "cell_type": "code",
      "metadata": {
        "id": "cPt0laRM_J2-"
      },
      "source": [
        "#tag_top_users = {tag:[] for tag in top_scoring_tags}\n",
        "tag_all_users = {tag:[] for tag in top_scoring_tags}\n",
        "\n",
        "for user in tqdm_notebook(dfQATU_owners_tagcount.keys()):\n",
        "    common_tags = dfQATU_owners_tagcount[user].keys() & top_scoring_tags\n",
        "    for tag in common_tags:\n",
        "        tag_all_users[tag].append(user)\n",
        "    "
      ],
      "execution_count": null,
      "outputs": []
    },
    {
      "cell_type": "markdown",
      "metadata": {
        "id": "UKMbfCHq_J3B"
      },
      "source": [
        "#### Let's sort it and get the top 10 users who have answered the most questions for any particular tag "
      ]
    },
    {
      "cell_type": "code",
      "metadata": {
        "id": "W56wNSTo_J3C"
      },
      "source": [
        "most_questions_answered_users_dict = {}\n",
        "\n",
        "for tag in top_scoring_tags:\n",
        "    \n",
        "    most_questions_answered_users = tag_all_users[tag]\n",
        "    most_questions_answered_count = []\n",
        "\n",
        "    for user in tag_all_users[tag]:\n",
        "        most_questions_answered_count.append(dfQATU_owners_tagcount[user][tag])\n",
        "\n",
        "    tag_all_users_df = {'Users': most_questions_answered_users, 'Answered': most_questions_answered_count}\n",
        "    tag_all_users_df = pd.DataFrame(tag_all_users_df)\n",
        "    tag_all_users_df = tag_all_users_df.sort_values('Answered', ascending = False)\n",
        "\n",
        "    most_questions_answered_users_dict[tag] = tag_all_users_df.head(10)"
      ],
      "execution_count": null,
      "outputs": []
    },
    {
      "cell_type": "code",
      "metadata": {
        "id": "-PtyIg1_R3bL"
      },
      "source": [
        "top_scoring_tags"
      ],
      "execution_count": null,
      "outputs": []
    },
    {
      "cell_type": "code",
      "metadata": {
        "id": "XcTaZE46_J3E"
      },
      "source": [
        "# So suppose you we want to find the top 10 users who have answered most questions in sql\n",
        "most_questions_answered_users_dict['sql']"
      ],
      "execution_count": null,
      "outputs": []
    },
    {
      "cell_type": "markdown",
      "metadata": {
        "id": "OONVWnEq_J3O"
      },
      "source": [
        "#### Trend of some data science and non - data science tags"
      ]
    },
    {
      "cell_type": "code",
      "metadata": {
        "id": "W9XucOZj_J3O"
      },
      "source": [
        "dfQATU_trend = inp0[['CreationDate_x', 'Tag']]\n",
        "\n",
        "dfQATU_trend = dfQATU_trend.sort_values(by='CreationDate_x')\n",
        "dfQATU_trend_day = dfQATU_trend.copy()"
      ],
      "execution_count": null,
      "outputs": []
    },
    {
      "cell_type": "code",
      "metadata": {
        "id": "3ZKzacfs_J3Q"
      },
      "source": [
        "dfQATU_trend['CreationDate_x'] = dfQATU_trend['CreationDate_x'].dt.to_period('M') # Extracting only the month and year\n",
        "dfQATU_trend['CreationDate_x'] = dfQATU_trend['CreationDate_x'].astype(str)\n",
        "\n",
        "dateline = dfQATU_trend['CreationDate_x'].unique()"
      ],
      "execution_count": null,
      "outputs": []
    },
    {
      "cell_type": "code",
      "metadata": {
        "id": "XfaE65Zi_J3R"
      },
      "source": [
        "dfQATU_trend = dfQATU_trend.groupby(['CreationDate_x'])['Tag'].apply(','.join).reset_index()\n",
        "dfQATU_trend.head()"
      ],
      "execution_count": null,
      "outputs": []
    },
    {
      "cell_type": "code",
      "metadata": {
        "id": "apJzrUJa_J3S"
      },
      "source": [
        "print('Our time series analysis will be performed on the following tags:')\n",
        "print(top_scoring_tags)"
      ],
      "execution_count": null,
      "outputs": []
    },
    {
      "cell_type": "code",
      "metadata": {
        "id": "SqitNc2g_J3U"
      },
      "source": [
        "top_scoring_tags_dict = {tag:[] for tag in top_scoring_tags}\n",
        "\n",
        "# Counting the number of times, a particular keyword was tagged per month\n",
        "\n",
        "for k, month in enumerate(dfQATU_trend['CreationDate_x']):\n",
        "    tag_counts = Counter(dfQATU_trend['Tag'][k].split(','))\n",
        "    for top_tag in top_scoring_tags:\n",
        "        try:\n",
        "            top_scoring_tags_dict[top_tag].append(tag_counts[top_tag])\n",
        "        except Exception:\n",
        "            top_scoring_tags_dict[top_tag].append(0)"
      ],
      "execution_count": null,
      "outputs": []
    },
    {
      "cell_type": "code",
      "metadata": {
        "id": "rmavnS7p_J3W"
      },
      "source": [
        "# Final Plotting\n",
        "\n",
        "plt.figure(figsize=(20,12)) \n",
        "for tag in top_scoring_tags_dict:\n",
        "    plt.plot(top_scoring_tags_dict[tag], label = tag)\n",
        "    \n",
        "plt.ylabel('Number of tags per month')\n",
        "plt.xlabel('Year - Month')\n",
        "plt.title('Trend of tag popularity over the years')\n",
        "plt.xticks(np.arange(len(dateline)), dateline, rotation=90)\n",
        "plt.legend(loc = 'best')\n",
        "plt.show()"
      ],
      "execution_count": null,
      "outputs": []
    },
    {
      "cell_type": "markdown",
      "metadata": {
        "id": "rFq9Hbks_J3X"
      },
      "source": [
        "#### Let us do a similar plot for analysing only the yearly growth"
      ]
    },
    {
      "cell_type": "code",
      "metadata": {
        "id": "kQ08UWJo_J3Y"
      },
      "source": [
        "dfQATU_trend['CreationDate_year'] = dfQATU_trend['CreationDate_x'].apply(lambda x: x.split(\"-\")[0]) # Extracting only the year\n",
        "yearline = dfQATU_trend['CreationDate_year'].unique()"
      ],
      "execution_count": null,
      "outputs": []
    },
    {
      "cell_type": "code",
      "metadata": {
        "id": "lxO0BSaR_J3b"
      },
      "source": [
        "dfQATU_year_trend = dfQATU_trend.groupby(['CreationDate_year'])['Tag'].apply(','.join).reset_index()\n",
        "dfQATU_year_trend.head()"
      ],
      "execution_count": null,
      "outputs": []
    },
    {
      "cell_type": "code",
      "metadata": {
        "id": "wkQOFlGX_J3c"
      },
      "source": [
        "top_scoring_tags_yearly = {tag:[] for tag in top_scoring_tags}\n",
        "\n",
        "# Counting the number of times, a particular keyword was tagged per year\n",
        "\n",
        "for k, year in enumerate(dfQATU_year_trend['CreationDate_year']):\n",
        "    tag_counts = Counter(dfQATU_year_trend['Tag'][k].split(','))\n",
        "    for top_tag in top_scoring_tags:\n",
        "        try:\n",
        "            top_scoring_tags_yearly[top_tag].append(tag_counts[top_tag])\n",
        "        except Exception:\n",
        "            top_scoring_tags_yearly[top_tag].append(0)"
      ],
      "execution_count": null,
      "outputs": []
    },
    {
      "cell_type": "code",
      "metadata": {
        "id": "fohPzIYT_J3d"
      },
      "source": [
        "# Final Plotting\n",
        "\n",
        "plt.figure(figsize=(20,12)) \n",
        "#for tag in top_scoring_tags_dict:\n",
        "for tag in top_scoring_tags_dict:\n",
        "    plt.plot(top_scoring_tags_yearly[tag], label = tag)\n",
        "    \n",
        "plt.ylabel('Popularity of the tag')\n",
        "plt.xlabel('Year')\n",
        "plt.title('Yearly growth of the popularity of each tag')\n",
        "plt.xticks(np.arange(len(yearline)), yearline, rotation=90)\n",
        "plt.legend(loc = 'best')\n",
        "plt.show()"
      ],
      "execution_count": null,
      "outputs": []
    },
    {
      "cell_type": "markdown",
      "metadata": {
        "id": "OkHmNhb9_J3f"
      },
      "source": [
        "#### Analysing the Growth Rate of tags over the years"
      ]
    },
    {
      "cell_type": "code",
      "metadata": {
        "id": "UY6fBxmT_J3f"
      },
      "source": [
        "top_scoring_tags_growth = {}\n",
        "for tag in top_scoring_tags_yearly.keys():\n",
        "    slope = []\n",
        "    for i in range(len(top_scoring_tags_yearly[tag])-1):\n",
        "        slope.append(top_scoring_tags_yearly[tag][i+1] - top_scoring_tags_yearly[tag][i])\n",
        "    top_scoring_tags_growth[tag] = slope"
      ],
      "execution_count": null,
      "outputs": []
    },
    {
      "cell_type": "code",
      "metadata": {
        "id": "C823Hgpy_J3h"
      },
      "source": [
        "# Final Plotting\n",
        "\n",
        "plt.figure(figsize=(20,12))\n",
        "for tag in top_scoring_tags_dict:\n",
        "    plt.plot(top_scoring_tags_growth[tag], label = tag)\n",
        "    \n",
        "plt.ylabel('Growth rate')\n",
        "plt.xlabel('Year')\n",
        "plt.title('Growth rate of tag popularity per year')\n",
        "plt.xticks(np.arange(len(yearline)-1), yearline[1:], rotation=90)\n",
        "plt.legend(loc = 'best')\n",
        "plt.show()"
      ],
      "execution_count": null,
      "outputs": []
    },
    {
      "cell_type": "markdown",
      "metadata": {
        "id": "XsQONfAu_J3i"
      },
      "source": [
        "#### Comparing the popularity of tags for different months"
      ]
    },
    {
      "cell_type": "code",
      "metadata": {
        "id": "4wp0rrMt_J3i"
      },
      "source": [
        "dfQATU_trend['CreationDate_month'] = dfQATU_trend['CreationDate_x'].apply(lambda x: x.split(\"-\")[1]) # Extracting only the year\n",
        "monthline = ['January', 'February', 'March', 'April', 'May', 'June', 'July', 'August', 'September', 'October', 'November', 'December']\n",
        "\n",
        "dfQATU_month_trend = dfQATU_trend.groupby(['CreationDate_month'])['Tag'].apply(','.join).reset_index()\n",
        "dfQATU_month_trend"
      ],
      "execution_count": null,
      "outputs": []
    },
    {
      "cell_type": "code",
      "metadata": {
        "id": "F1sGFkiZ_J3o"
      },
      "source": [
        "top_scoring_tags_months = {tag:[] for tag in top_scoring_tags}\n",
        "\n",
        "# Counting the number of times, a particular keyword was tagged per month\n",
        "\n",
        "for k, year in enumerate(dfQATU_month_trend['CreationDate_month']):\n",
        "    tag_counts = Counter(dfQATU_month_trend['Tag'][k].split(','))\n",
        "    for top_tag in top_scoring_tags:\n",
        "        try:\n",
        "            top_scoring_tags_months[top_tag].append(tag_counts[top_tag])\n",
        "        except Exception:\n",
        "            top_scoring_tags_months[top_tag].append(0)"
      ],
      "execution_count": null,
      "outputs": []
    },
    {
      "cell_type": "code",
      "metadata": {
        "id": "eNQoQc60_J3p"
      },
      "source": [
        "# Final Plotting\n",
        "\n",
        "plt.figure(figsize=(12,7)) \n",
        "for tag in top_scoring_tags_months:\n",
        "    plt.plot(top_scoring_tags_months[tag], label = tag)\n",
        "    \n",
        "plt.ylabel('Popularity of the tag')\n",
        "plt.xlabel('Month')\n",
        "plt.title('Comparing the popularity of tags for each month')\n",
        "plt.xticks(np.arange(len(monthline)), monthline, rotation=90)\n",
        "plt.legend(loc = 'upper left')\n",
        "plt.show()"
      ],
      "execution_count": null,
      "outputs": []
    },
    {
      "cell_type": "code",
      "metadata": {
        "id": "p6GzsacD_J3r"
      },
      "source": [
        "# Tags seem to be used slightly less frequently during the summer and winter holidays, don't you think?"
      ],
      "execution_count": null,
      "outputs": []
    },
    {
      "cell_type": "code",
      "metadata": {
        "id": "DvBCI7mH_J3s"
      },
      "source": [
        "Days_of_Week = ['Monday', 'Tuesday', 'Wednesday', 'Thursday', 'Friday', 'Saturday', 'Sunday']\n",
        "dfQATU_trend_day['CreationDate_x'] = dfQATU_trend_day['CreationDate_x'].dt.day_name().astype(str)\n",
        "dfQATU_day_trend = dfQATU_trend_day.groupby('CreationDate_x')['Tag'].apply(','.join).reindex(Days_of_Week)\n",
        "dfQATU_day_trend"
      ],
      "execution_count": null,
      "outputs": []
    },
    {
      "cell_type": "code",
      "metadata": {
        "id": "99FPaidb_J3t"
      },
      "source": [
        "top_scoring_tags_day = {tag:[] for tag in top_scoring_tags}\n",
        "\n",
        "# Counting the number of times, a particular keyword was tagged on a particular day of the week\n",
        "\n",
        "for k, day in enumerate(dfQATU_day_trend):\n",
        "    tag_counts = Counter(dfQATU_day_trend[k].split(','))\n",
        "    for top_tag in top_scoring_tags:\n",
        "        try:\n",
        "            top_scoring_tags_day[top_tag].append(tag_counts[top_tag])\n",
        "        except Exception:\n",
        "            top_scoring_tags_day[top_tag].append(0)"
      ],
      "execution_count": null,
      "outputs": []
    },
    {
      "cell_type": "code",
      "metadata": {
        "id": "3YddS9d1_J3w"
      },
      "source": [
        "# Final Plotting\n",
        "\n",
        "plt.figure(figsize=(12,7)) \n",
        "for tag in top_scoring_tags_day:\n",
        "    plt.plot(top_scoring_tags_day[tag], label = tag)\n",
        "    \n",
        "plt.ylabel('Popularity of the tag')\n",
        "plt.xlabel('Day of the week')\n",
        "plt.title('Comparing the popularity of tags on different days of the week')\n",
        "plt.xticks(np.arange(len(Days_of_Week)), Days_of_Week, rotation=90)\n",
        "plt.legend(loc = 'best')\n",
        "plt.show()"
      ],
      "execution_count": null,
      "outputs": []
    },
    {
      "cell_type": "code",
      "metadata": {
        "id": "xiy0Ch8G_J3y"
      },
      "source": [
        "# Looks like people like being more active  during the weekdays"
      ],
      "execution_count": null,
      "outputs": []
    }
  ]
}